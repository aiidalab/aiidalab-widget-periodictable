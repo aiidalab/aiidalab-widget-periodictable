{
 "cells": [
  {
   "cell_type": "code",
   "execution_count": 47,
   "metadata": {},
   "outputs": [],
   "source": [
    "from __future__ import print_function"
   ]
  },
  {
   "cell_type": "code",
   "execution_count": 146,
   "metadata": {},
   "outputs": [],
   "source": [
    "from ipywidgets import DOMWidget\n",
    "from traitlets import Unicode, Int\n",
    "\n",
    "class MyWidget(DOMWidget):\n",
    "    _view_module = Unicode('mc-ptable').tag(sync=True)\n",
    "    _view_module_version = Unicode('0.1.0').tag(sync=True)\n",
    "    _view_name = Unicode('PTableView').tag(sync=True)\n",
    "    selected_element = Unicode().tag(sync=True)"
   ]
  },
  {
   "cell_type": "code",
   "execution_count": 197,
   "metadata": {},
   "outputs": [
    {
     "data": {
      "application/javascript": [
       "require.undef('mc-ptable');\n",
       "\n",
       "define('mc-ptable', ['@jupyter-widgets/base'], function(widgets) {\n",
       "    var PTableView = widgets.DOMWidgetView.extend({\n",
       "        render: function() {\n",
       "            PTableView.__super__.render.apply(this, arguments);\n",
       "            this.first_render();\n",
       "            this.listenTo(this.model, 'change:selected_element', this._selected_changed, this);\n",
       "        },\n",
       "        \n",
       "        first_render: function() {\n",
       "            window.xxx = function(el) {\n",
       "                // cannot access the PTableClass here\n",
       "                alert(el.id + \" - \" + el.PTableClass);\n",
       "                // this.model.set('selected_element', )\n",
       "                // this.touch();\n",
       "            };\n",
       "            \n",
       "            // template = '<div id=\"element-H\" onclick=\"window.xxx(this)\" onMouseOver=\"this.style.backgroundColor=\\'#cc7777\\'\" onMouseOut=\"this.style.backgroundColor=\\'#ffaaaa\\'\" style=\"border: 1px solid #cc7777; outer-margin: 2px; border-radius: 4px; width: 40px; height: 40px; display: table-cell; text-align: center; vertical-align: middle; background-color: #ffaaaa;\">H</div>';\n",
       "            \n",
       "            this.el.PTableClass = this;\n",
       "            this.el.innerHTML = \n",
       "                '<div style=\"display: table; border-spacing: 6px;\">' +\n",
       "                '<div style=\"display: table-row;\">' +\n",
       "                '<div id=\"element-H\" onclick=\"window.xxx(this)\" onMouseOver=\"this.style.backgroundColor=\\'#cc7777\\'\" onMouseOut=\"this.style.backgroundColor=\\'#ffaaaa\\'\" style=\"border: 1px solid #cc7777; outer-margin: 2px; border-radius: 4px; width: 40px; height: 40px; display: table-cell; text-align: center; vertical-align: middle; background-color: #ffaaaa;\">H</div>' + \n",
       "                '<div style=\"width: 40px; height: 40px; display: table-cell; text-align: center; vertical-align: middle;\"> </div>' + \n",
       "                '<div style=\"width: 40px; height: 40px; display: table-cell; text-align: center; vertical-align: middle;\"> </div>' + \n",
       "                '<div id=\"element-He\" style=\"border: 1px solid #cc7777; border-radius: 4px; width: 40px; height: 40px; display: table-cell; text-align: center; vertical-align: middle; background-color: #ffaaaa\">He</div>' +\n",
       "                '</div>' +\n",
       "                '<div style=\"display: table-row;\">' +\n",
       "                '<div id=\"element-Li\" style=\"border: 1px solid #cc7777; outer-margin: 2px; border-radius: 4px; width: 40px; height: 40px; display: table-cell; text-align: center; vertical-align: middle; background-color: #ffaaaa\">Li</div>' + \n",
       "                '<div style=\"width: 40px; height: 40px; display: table-cell; text-align: center; vertical-align: middle;\"> </div>' + \n",
       "                '<div style=\"width: 40px; height: 40px; display: table-cell; text-align: center; vertical-align: middle;\"> </div>' + \n",
       "                '<div id=\"element-Ne\" style=\"border: 1px solid #cc7777; border-radius: 4px; width: 40px; height: 40px; display: table-cell; text-align: center; vertical-align: middle; background-color: #ffaaaa\">Ne</div>'\n",
       "                '</div>' +\n",
       "                '</div>'\n",
       "            ;   \n",
       "        },\n",
       "        \n",
       "        _selected_changed: function() {\n",
       "            var the_id = \"element-\" + this.model.get(\"selected_element\");\n",
       "            var el = document.getElementById(the_id);\n",
       "            // Should clean up the rest\n",
       "            if (typeof el !== \"undefined\") {\n",
       "                el.style.backgroundColor = \"#ccccff\";\n",
       "            }\n",
       "            else {\n",
       "                alert(\"No\");\n",
       "            }\n",
       "            //this.model.set('disp_string', this.el.textContent);\n",
       "            //this.touch();\n",
       "        }\n",
       "    });\n",
       "\n",
       "    return {\n",
       "        PTableView: PTableView\n",
       "    }\n",
       "});"
      ],
      "text/plain": [
       "<IPython.core.display.Javascript object>"
      ]
     },
     "metadata": {},
     "output_type": "display_data"
    }
   ],
   "source": [
    "%%javascript\n",
    "require.undef('mc-ptable');\n",
    "\n",
    "define('mc-ptable', ['@jupyter-widgets/base'], function(widgets) {\n",
    "    var PTableView = widgets.DOMWidgetView.extend({\n",
    "        render: function() {\n",
    "            PTableView.__super__.render.apply(this, arguments);\n",
    "            this.first_render();\n",
    "            this.listenTo(this.model, 'change:selected_element', this._selected_changed, this);\n",
    "        },\n",
    "        \n",
    "        first_render: function() {\n",
    "            window.xxx = function(el) {\n",
    "                // cannot access the PTableClass here\n",
    "                alert(el.id + \" - \" + el.PTableClass);\n",
    "                // this.model.set('selected_element', )\n",
    "                // this.touch();\n",
    "            };\n",
    "            \n",
    "            // template = '<div id=\"element-H\" onclick=\"window.xxx(this)\" onMouseOver=\"this.style.backgroundColor=\\'#cc7777\\'\" onMouseOut=\"this.style.backgroundColor=\\'#ffaaaa\\'\" style=\"border: 1px solid #cc7777; outer-margin: 2px; border-radius: 4px; width: 40px; height: 40px; display: table-cell; text-align: center; vertical-align: middle; background-color: #ffaaaa;\">H</div>';\n",
    "            \n",
    "            this.el.PTableClass = this;\n",
    "            this.el.innerHTML = \n",
    "                '<div style=\"display: table; border-spacing: 6px;\">' +\n",
    "                '<div style=\"display: table-row;\">' +\n",
    "                '<div id=\"element-H\" onclick=\"window.xxx(this)\" onMouseOver=\"this.style.backgroundColor=\\'#cc7777\\'\" onMouseOut=\"this.style.backgroundColor=\\'#ffaaaa\\'\" style=\"border: 1px solid #cc7777; outer-margin: 2px; border-radius: 4px; width: 40px; height: 40px; display: table-cell; text-align: center; vertical-align: middle; background-color: #ffaaaa;\">H</div>' + \n",
    "                '<div style=\"width: 40px; height: 40px; display: table-cell; text-align: center; vertical-align: middle;\"> </div>' + \n",
    "                '<div style=\"width: 40px; height: 40px; display: table-cell; text-align: center; vertical-align: middle;\"> </div>' + \n",
    "                '<div id=\"element-He\" style=\"border: 1px solid #cc7777; border-radius: 4px; width: 40px; height: 40px; display: table-cell; text-align: center; vertical-align: middle; background-color: #ffaaaa\">He</div>' +\n",
    "                '</div>' +\n",
    "                '<div style=\"display: table-row;\">' +\n",
    "                '<div id=\"element-Li\" style=\"border: 1px solid #cc7777; outer-margin: 2px; border-radius: 4px; width: 40px; height: 40px; display: table-cell; text-align: center; vertical-align: middle; background-color: #ffaaaa\">Li</div>' + \n",
    "                '<div style=\"width: 40px; height: 40px; display: table-cell; text-align: center; vertical-align: middle;\"> </div>' + \n",
    "                '<div style=\"width: 40px; height: 40px; display: table-cell; text-align: center; vertical-align: middle;\"> </div>' + \n",
    "                '<div id=\"element-Ne\" style=\"border: 1px solid #cc7777; border-radius: 4px; width: 40px; height: 40px; display: table-cell; text-align: center; vertical-align: middle; background-color: #ffaaaa\">Ne</div>'\n",
    "                '</div>' +\n",
    "                '</div>'\n",
    "            ;   \n",
    "        },\n",
    "        \n",
    "        _selected_changed: function() {\n",
    "            var the_id = \"element-\" + this.model.get(\"selected_element\");\n",
    "            var el = document.getElementById(the_id);\n",
    "            // Should clean up the rest\n",
    "            if (typeof el !== \"undefined\") {\n",
    "                el.style.backgroundColor = \"#ccccff\";\n",
    "            }\n",
    "            else {\n",
    "                alert(\"No\");\n",
    "            }\n",
    "            //this.model.set('disp_string', this.el.textContent);\n",
    "            //this.touch();\n",
    "        }\n",
    "    });\n",
    "\n",
    "    return {\n",
    "        PTableView: PTableView\n",
    "    }\n",
    "});"
   ]
  },
  {
   "cell_type": "code",
   "execution_count": 198,
   "metadata": {},
   "outputs": [
    {
     "data": {
      "application/vnd.jupyter.widget-view+json": {
       "model_id": "765d19cc232e4ca494d1c12b4429340c",
       "version_major": 2,
       "version_minor": 0
      },
      "text/html": [
       "<p>Failed to display Jupyter Widget of type <code>MyWidget</code>.</p>\n",
       "<p>\n",
       "  If you're reading this message in the Jupyter Notebook or JupyterLab Notebook, it may mean\n",
       "  that the widgets JavaScript is still loading. If this message persists, it\n",
       "  likely means that the widgets JavaScript library is either not installed or\n",
       "  not enabled. See the <a href=\"https://ipywidgets.readthedocs.io/en/stable/user_install.html\">Jupyter\n",
       "  Widgets Documentation</a> for setup instructions.\n",
       "</p>\n",
       "<p>\n",
       "  If you're reading this message in another frontend (for example, a static\n",
       "  rendering on GitHub or <a href=\"https://nbviewer.jupyter.org/\">NBViewer</a>),\n",
       "  it may mean that your frontend doesn't currently support widgets.\n",
       "</p>\n"
      ],
      "text/plain": [
       "MyWidget()"
      ]
     },
     "metadata": {},
     "output_type": "display_data"
    }
   ],
   "source": [
    "w2 = MyWidget()\n",
    "w2"
   ]
  },
  {
   "cell_type": "code",
   "execution_count": 199,
   "metadata": {},
   "outputs": [],
   "source": [
    "w2.selected_element = \"He\""
   ]
  },
  {
   "cell_type": "code",
   "execution_count": null,
   "metadata": {},
   "outputs": [],
   "source": []
  }
 ],
 "metadata": {
  "kernelspec": {
   "display_name": "Python 2",
   "language": "python",
   "name": "python2"
  },
  "language_info": {
   "codemirror_mode": {
    "name": "ipython",
    "version": 2
   },
   "file_extension": ".py",
   "mimetype": "text/x-python",
   "name": "python",
   "nbconvert_exporter": "python",
   "pygments_lexer": "ipython2",
   "version": "2.7.10"
  }
 },
 "nbformat": 4,
 "nbformat_minor": 2
}
