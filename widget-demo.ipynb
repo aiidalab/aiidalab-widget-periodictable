{
 "cells": [
  {
   "cell_type": "code",
   "execution_count": null,
   "metadata": {},
   "outputs": [],
   "source": [
    "import ipywidgets as widgets\n",
    "from aiidalab_widget_periodictable import PTableWidget"
   ]
  },
  {
   "cell_type": "markdown",
   "metadata": {},
   "source": [
    "# Visualize the element grid"
   ]
  },
  {
   "cell_type": "code",
   "execution_count": null,
   "metadata": {},
   "outputs": [],
   "source": [
    "# Show the widget\n",
    "widget = PTableWidget()\n",
    "widget"
   ]
  },
  {
   "cell_type": "markdown",
   "metadata": {},
   "source": [
    "# Set the selected values from python"
   ]
  },
  {
   "cell_type": "markdown",
   "metadata": {},
   "source": [
    "Check that you can set the selected values from python"
   ]
  },
  {
   "cell_type": "code",
   "execution_count": null,
   "metadata": {},
   "outputs": [],
   "source": [
    "def on_set_from_ptyhon(event):\n",
    "    # NOTE! If you put an element which does not exist, it will stay forever in the list, but it's ignored\n",
    "    widget.selected_elements = ['Li', 'H']\n",
    "\n",
    "button = widgets.Button(\n",
    "    description=\"Select only Li and H (from python)\", \n",
    "    button_style='success',\n",
    "    layout={'width': '300px'}\n",
    ")\n",
    "button.on_click(on_set_from_ptyhon)\n",
    "button"
   ]
  },
  {
   "cell_type": "markdown",
   "metadata": {},
   "source": [
    "# Get the selected values in python"
   ]
  },
  {
   "cell_type": "markdown",
   "metadata": {},
   "source": [
    "Run this cell below after clicking to check which elements are selected"
   ]
  },
  {
   "cell_type": "code",
   "execution_count": null,
   "metadata": {},
   "outputs": [],
   "source": [
    "output = widgets.Output()\n",
    "\n",
    "def on_get_in_python(event):\n",
    "    output.clear_output()\n",
    "    with output:\n",
    "        print(\n",
    "            \"Currently selected values:\",  \n",
    "            widget.selected_elements)\n",
    "\n",
    "button2 = widgets.Button(\n",
    "    description=\"Get the currently selected values\", \n",
    "    button_style='success',\n",
    "    layout={'width': '300px'}\n",
    ")\n",
    "button2.on_click(on_get_in_python)\n",
    "vbox = widgets.VBox([button2, output])\n",
    "vbox"
   ]
  },
  {
   "cell_type": "markdown",
   "metadata": {},
   "source": [
    "# Play with enabling/disabling some elements"
   ]
  },
  {
   "cell_type": "code",
   "execution_count": null,
   "metadata": {},
   "outputs": [],
   "source": [
    "toggle_disabled = widgets.Checkbox(\n",
    "    value=\"O\" in widget.disabled_elements,\n",
    "    description='Disable oxygen',\n",
    "    disabled=False\n",
    ")\n",
    "\n",
    "def on_change_disabled(event):\n",
    "    if toggle_disabled.value:\n",
    "        # It's set, meaning we want to disable oxygen\n",
    "        widget.disabled_elements = [\"O\"]\n",
    "    else:\n",
    "        widget.disabled_elements = []\n",
    "toggle_disabled.observe(on_change_disabled, names='value')\n",
    "\n",
    "def on_change(event):\n",
    "    \"\"\"\n",
    "    Update the toggle value if manually changing the disabled_elements list.\n",
    "    \"\"\"\n",
    "    toggle_disabled.value = \"O\" in widget.disabled_elements\n",
    "widget.observe(on_change, names='disabled_elements', type='change')        \n",
    "        \n",
    "toggle_disabled"
   ]
  },
  {
   "cell_type": "code",
   "execution_count": null,
   "metadata": {},
   "outputs": [],
   "source": []
  }
 ],
 "metadata": {
  "kernelspec": {
   "display_name": "Python 2",
   "language": "python",
   "name": "python2"
  },
  "language_info": {
   "codemirror_mode": {
    "name": "ipython",
    "version": 3
   },
   "file_extension": ".py",
   "mimetype": "text/x-python",
   "name": "python",
   "nbconvert_exporter": "python",
   "pygments_lexer": "ipython3",
   "version": "3.6.5"
  }
 },
 "nbformat": 4,
 "nbformat_minor": 2
}
