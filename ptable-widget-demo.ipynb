{
 "cells": [
  {
   "cell_type": "code",
   "execution_count": 5,
   "metadata": {},
   "outputs": [],
   "source": [
    "import ipywidgets as widgets\n",
    "from mc_widget_periodictable import PTableWidget"
   ]
  },
  {
   "cell_type": "markdown",
   "metadata": {},
   "source": [
    "# Visualize the element grid"
   ]
  },
  {
   "cell_type": "code",
   "execution_count": 8,
   "metadata": {},
   "outputs": [
    {
     "data": {
      "application/vnd.jupyter.widget-view+json": {
       "model_id": "e42d7c976ec64c0b8db357aa6ed2ccff",
       "version_major": 2,
       "version_minor": 0
      },
      "text/plain": [
       "PTableWidget()"
      ]
     },
     "metadata": {},
     "output_type": "display_data"
    }
   ],
   "source": [
    "# Show the widget\n",
    "widget = PTableWidget()\n",
    "widget"
   ]
  },
  {
   "cell_type": "markdown",
   "metadata": {},
   "source": [
    "# Set the selected values from python"
   ]
  },
  {
   "cell_type": "markdown",
   "metadata": {},
   "source": [
    "Check that you can set the selected values from python"
   ]
  },
  {
   "cell_type": "code",
   "execution_count": 18,
   "metadata": {},
   "outputs": [
    {
     "data": {
      "application/vnd.jupyter.widget-view+json": {
       "model_id": "0748e1d1fa004cd59c386bd096e78492",
       "version_major": 2,
       "version_minor": 0
      },
      "text/plain": [
       "Button(button_style='success', description='Select only Li and H (from python)', layout=Layout(width='300px'),…"
      ]
     },
     "metadata": {},
     "output_type": "display_data"
    }
   ],
   "source": [
    "def on_set_from_ptyhon(event):\n",
    "    # NOTE! If you put an element which does not exist, it will stay forever in the list, but it's ignored\n",
    "    widget.selected_elements = ['Li', 'H']\n",
    "\n",
    "button = widgets.Button(\n",
    "    description=\"Select only Li and H (from python)\", \n",
    "    button_style='success',\n",
    "    layout={'width': '300px'}\n",
    ")\n",
    "button.on_click(on_set_from_ptyhon)\n",
    "button"
   ]
  },
  {
   "cell_type": "markdown",
   "metadata": {},
   "source": [
    "# Get the selected values in python"
   ]
  },
  {
   "cell_type": "markdown",
   "metadata": {},
   "source": [
    "Run this cell below after clicking to check which elements are selected"
   ]
  },
  {
   "cell_type": "code",
   "execution_count": 21,
   "metadata": {},
   "outputs": [
    {
     "data": {
      "application/vnd.jupyter.widget-view+json": {
       "model_id": "a0fc9c09f9aa44ceb70944c5f796531b",
       "version_major": 2,
       "version_minor": 0
      },
      "text/plain": [
       "VBox(children=(Button(button_style='success', description='Get the currently selected values', layout=Layout(w…"
      ]
     },
     "metadata": {},
     "output_type": "display_data"
    }
   ],
   "source": [
    "output = widgets.Output()\n",
    "\n",
    "def on_get_in_python(event):\n",
    "    output.clear_output()\n",
    "    with output:\n",
    "        print(\n",
    "            \"Currently selected values:\",  \n",
    "            widget.selected_elements)\n",
    "\n",
    "button2 = widgets.Button(\n",
    "    description=\"Get the currently selected values\", \n",
    "    button_style='success',\n",
    "    layout={'width': '300px'}\n",
    ")\n",
    "button2.on_click(on_get_in_python)\n",
    "vbox = widgets.VBox([button2, output])\n",
    "vbox"
   ]
  },
  {
   "cell_type": "code",
   "execution_count": null,
   "metadata": {},
   "outputs": [],
   "source": []
  }
 ],
 "metadata": {
  "kernelspec": {
   "display_name": "Python 2",
   "language": "python",
   "name": "python2"
  },
  "language_info": {
   "codemirror_mode": {
    "name": "ipython",
    "version": 3
   },
   "file_extension": ".py",
   "mimetype": "text/x-python",
   "name": "python",
   "nbconvert_exporter": "python",
   "pygments_lexer": "ipython3",
   "version": "3.6.5"
  }
 },
 "nbformat": 4,
 "nbformat_minor": 2
}
